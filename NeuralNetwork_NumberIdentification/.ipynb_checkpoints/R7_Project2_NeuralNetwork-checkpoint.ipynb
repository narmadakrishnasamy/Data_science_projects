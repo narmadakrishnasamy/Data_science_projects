{
 "cells": [
  {
   "cell_type": "markdown",
   "metadata": {
    "colab_type": "text",
    "id": "ugnoFcKd3kJE"
   },
   "source": [
    "## Understand the basic Image Classification pipeline and the data-driven approach (train/predict stages)"
   ]
  },
  {
   "cell_type": "markdown",
   "metadata": {
    "colab_type": "text",
    "id": "QUPvVP0T4XNK"
   },
   "source": [
    "### New Section"
   ]
  },
  {
   "cell_type": "code",
   "execution_count": 0,
   "metadata": {
    "colab": {},
    "colab_type": "code",
    "id": "sXnry0VB3gVO"
   },
   "outputs": [],
   "source": [
    "from google.colab import drive"
   ]
  },
  {
   "cell_type": "code",
   "execution_count": 3,
   "metadata": {
    "colab": {
     "base_uri": "https://localhost:8080/",
     "height": 35
    },
    "colab_type": "code",
    "executionInfo": {
     "elapsed": 1688,
     "status": "ok",
     "timestamp": 1552851948375,
     "user": {
      "displayName": "Narmada K",
      "photoUrl": "",
      "userId": "14352630564959647803"
     },
     "user_tz": -330
    },
    "id": "wnQM3b3Sz-lD",
    "outputId": "0716d005-854c-4780-f527-d528eff29b96"
   },
   "outputs": [
    {
     "name": "stdout",
     "output_type": "stream",
     "text": [
      "Drive already mounted at /content/drive; to attempt to forcibly remount, call drive.mount(\"/content/drive\", force_remount=True).\n"
     ]
    }
   ],
   "source": [
    "drive.mount('/content/drive')"
   ]
  },
  {
   "cell_type": "markdown",
   "metadata": {
    "colab_type": "text",
    "id": "FxQ6kQgU3uuC"
   },
   "source": [
    "## Data fetching and understand the train/val/test splits.\n"
   ]
  },
  {
   "cell_type": "code",
   "execution_count": 0,
   "metadata": {
    "colab": {},
    "colab_type": "code",
    "id": "sr2i-x37z_PY"
   },
   "outputs": [],
   "source": [
    "import os\n",
    "os.chdir('/content/drive/My Drive/Colab Notebooks')"
   ]
  },
  {
   "cell_type": "code",
   "execution_count": 0,
   "metadata": {
    "colab": {},
    "colab_type": "code",
    "id": "UerGcbuZuKiq"
   },
   "outputs": [],
   "source": [
    "import numpy as np\n",
    "import matplotlib.pyplot as plt"
   ]
  },
  {
   "cell_type": "code",
   "execution_count": 0,
   "metadata": {
    "colab": {},
    "colab_type": "code",
    "id": "jAF5w1sgyy7w"
   },
   "outputs": [],
   "source": [
    "import h5py as h5"
   ]
  },
  {
   "cell_type": "code",
   "execution_count": 0,
   "metadata": {
    "colab": {},
    "colab_type": "code",
    "id": "4s02l5Zmy2Ur"
   },
   "outputs": [],
   "source": [
    "# read H5 file\n",
    "f=h5.File('SVHN_single_grey1.h5','r')"
   ]
  },
  {
   "cell_type": "code",
   "execution_count": 8,
   "metadata": {
    "colab": {
     "base_uri": "https://localhost:8080/",
     "height": 126
    },
    "colab_type": "code",
    "executionInfo": {
     "elapsed": 1068,
     "status": "ok",
     "timestamp": 1552851950365,
     "user": {
      "displayName": "Narmada K",
      "photoUrl": "",
      "userId": "14352630564959647803"
     },
     "user_tz": -330
    },
    "id": "1Xkjm2rMzNB2",
    "outputId": "71c1818f-5534-4821-b5f1-8acd9f91bd03"
   },
   "outputs": [
    {
     "name": "stdout",
     "output_type": "stream",
     "text": [
      "X_test\n",
      "X_train\n",
      "X_val\n",
      "y_test\n",
      "y_train\n",
      "y_val\n"
     ]
    }
   ],
   "source": [
    "# get and print lists od datasets within the h5 file\n",
    "\n",
    "dataset_names=[n for n in f.keys()]\n",
    "for n in dataset_names:\n",
    "  print(n)"
   ]
  },
  {
   "cell_type": "code",
   "execution_count": 0,
   "metadata": {
    "colab": {},
    "colab_type": "code",
    "id": "PkXWuZ0s0SBG"
   },
   "outputs": [],
   "source": [
    "# extract data from the file \n",
    "\n",
    "x_train = f['X_train']\n",
    "x_test = f['X_test']\n",
    "x_val = f['X_val']\n",
    "y_train = f['y_train']\n",
    "y_test = f['y_test']\n",
    "y_val = f['y_val']"
   ]
  },
  {
   "cell_type": "code",
   "execution_count": 10,
   "metadata": {
    "colab": {
     "base_uri": "https://localhost:8080/",
     "height": 163
    },
    "colab_type": "code",
    "executionInfo": {
     "elapsed": 1019,
     "status": "ok",
     "timestamp": 1552851951110,
     "user": {
      "displayName": "Narmada K",
      "photoUrl": "",
      "userId": "14352630564959647803"
     },
     "user_tz": -330
    },
    "id": "c9CKAu601MBA",
    "outputId": "10d371b4-4fea-4f9d-a24f-0f8af6c0859a"
   },
   "outputs": [
    {
     "name": "stdout",
     "output_type": "stream",
     "text": [
      "X_train :  (42000, 32, 32)\n",
      "X_test :  (18000, 32, 32)\n",
      "y_train :  (42000,)\n",
      "y_test :  (18000,)\n",
      "x_val :  (60000, 32, 32)\n",
      "y_val :  (60000,)\n",
      "\n",
      "Total Number of Images 60000\n"
     ]
    }
   ],
   "source": [
    "print(\"X_train : \",x_train.shape)\n",
    "print(\"X_test : \",x_test.shape)\n",
    "print(\"y_train : \",y_train.shape)\n",
    "print(\"y_test : \",y_test.shape)\n",
    "print(\"x_val : \",x_val.shape)\n",
    "print(\"y_val : \",y_val.shape)\n",
    "\n",
    "# Calculate the total number of images\n",
    "num_images = x_train.shape[0] + x_test.shape[0]\n",
    "\n",
    "print(\"\\nTotal Number of Images\", num_images)"
   ]
  },
  {
   "cell_type": "markdown",
   "metadata": {
    "colab_type": "text",
    "id": "wCr3GM-z5Kwj"
   },
   "source": [
    "### Observation: Training dataset has 42000 images of pixel size 32 x 32 and the testing consists of 18000 images of pixel size 32 x 32."
   ]
  },
  {
   "cell_type": "code",
   "execution_count": 11,
   "metadata": {
    "colab": {
     "base_uri": "https://localhost:8080/",
     "height": 135
    },
    "colab_type": "code",
    "executionInfo": {
     "elapsed": 2604,
     "status": "ok",
     "timestamp": 1552851953436,
     "user": {
      "displayName": "Narmada K",
      "photoUrl": "",
      "userId": "14352630564959647803"
     },
     "user_tz": -330
    },
    "id": "PiylVpNI7CZF",
    "outputId": "c9ac467f-fd7a-4c87-bdee-6d0c202323fe"
   },
   "outputs": [
    {
     "data": {
      "image/png": "[encoded data removed]",
      "text/plain": [
       "<Figure size 1080x1080 with 10 Axes>"
      ]
     },
     "metadata": {
      "tags": []
     },
     "output_type": "display_data"
    }
   ],
   "source": [
    "# Plot some train data with labels \n",
    "\n",
    "plt.rcParams['figure.figsize'] = (15.0, 15.0)\n",
    "f, ax = plt.subplots(nrows=1, ncols=10)\n",
    "\n",
    "for i, j in enumerate(np.random.randint(0, x_train.shape[0], size=10)):\n",
    "    ax[i].axis('off')\n",
    "    ax[i].set_title(y_train[j], loc='center')\n",
    "    ax[i].imshow(x_train[j,:,:])\n",
    "    "
   ]
  },
  {
   "cell_type": "code",
   "execution_count": 12,
   "metadata": {
    "colab": {
     "base_uri": "https://localhost:8080/",
     "height": 35
    },
    "colab_type": "code",
    "executionInfo": {
     "elapsed": 2244,
     "status": "ok",
     "timestamp": 1552851953437,
     "user": {
      "displayName": "Narmada K",
      "photoUrl": "",
      "userId": "14352630564959647803"
     },
     "user_tz": -330
    },
    "id": "G9mxmdTPCL6R",
    "outputId": "7723aa5c-d0a8-4b80-9886-9fd83f8315be"
   },
   "outputs": [
    {
     "name": "stdout",
     "output_type": "stream",
     "text": [
      "[0 1 2 3 4 5 6 7 8 9]\n"
     ]
    }
   ],
   "source": [
    "# print the unique numbers in y\n",
    "print(np.unique(y_train))"
   ]
  },
  {
   "cell_type": "code",
   "execution_count": 13,
   "metadata": {
    "colab": {
     "base_uri": "https://localhost:8080/",
     "height": 396
    },
    "colab_type": "code",
    "executionInfo": {
     "elapsed": 1898,
     "status": "ok",
     "timestamp": 1552851953437,
     "user": {
      "displayName": "Narmada K",
      "photoUrl": "",
      "userId": "14352630564959647803"
     },
     "user_tz": -330
    },
    "id": "5QP_5OWVDD41",
    "outputId": "af14d976-1f52-4f21-8037-0bb6fdfb512c"
   },
   "outputs": [
    {
     "data": {
      "image/png": "[encoded data removed]",
      "text/plain": [
       "<Figure size 720x360 with 2 Axes>"
      ]
     },
     "metadata": {
      "tags": []
     },
     "output_type": "display_data"
    }
   ],
   "source": [
    "# plotting the distribution of the data in the train and test set\n",
    "\n",
    "\n",
    "plt.rcParams['figure.figsize'] = (10.0, 5.0)\n",
    "fig, (ax1, ax2) = plt.subplots(1, 2, sharex=True)\n",
    "\n",
    "fig.suptitle('Class Distribution', fontsize=14, fontweight='bold', y=1.05)\n",
    "\n",
    "ax1.hist(y_train, bins=10)\n",
    "ax1.set_title(\"Training set\")\n",
    "ax1.set_xlim(1, 10)\n",
    "\n",
    "ax2.hist(y_test, color='g', bins=10)\n",
    "ax2.set_title(\"Test set\")\n",
    "\n",
    "fig.tight_layout()"
   ]
  },
  {
   "cell_type": "markdown",
   "metadata": {
    "colab_type": "text",
    "id": "mLe1vMsUEBUC"
   },
   "source": [
    "### Observation: From the plotting we can observe that the dataset is evenly distributed."
   ]
  },
  {
   "cell_type": "code",
   "execution_count": 0,
   "metadata": {
    "colab": {},
    "colab_type": "code",
    "id": "UkfNNkvW6gBv"
   },
   "outputs": [],
   "source": [
    "# X_train is a HDF5 dataset,convert it to an array to do fit into algorithms.\n",
    "\n",
    "X_train = np.reshape(x_train, (x_train.shape[0], x_train.shape[1] * x_train.shape[2]))\n",
    "X_val = np.reshape(x_val, (x_val.shape[0], x_val.shape[1] * x_val.shape[2]))\n",
    "X_test = np.reshape(x_test, (x_test.shape[0], x_test.shape[1] * x_test.shape[2]))\n",
    "y_train = np.array(y_train)\n",
    "y_val = np.array(y_val)\n",
    "y_test = np.array(y_test)"
   ]
  },
  {
   "cell_type": "code",
   "execution_count": 15,
   "metadata": {
    "colab": {
     "base_uri": "https://localhost:8080/",
     "height": 163
    },
    "colab_type": "code",
    "executionInfo": {
     "elapsed": 1423,
     "status": "ok",
     "timestamp": 1552851954027,
     "user": {
      "displayName": "Narmada K",
      "photoUrl": "",
      "userId": "14352630564959647803"
     },
     "user_tz": -330
    },
    "id": "VtUxFrf38a64",
    "outputId": "e30788a8-f798-477a-9ec8-6a420ee2d609"
   },
   "outputs": [
    {
     "data": {
      "text/plain": [
       "array([[ 33.0704,  30.2601,  26.852 , ...,  49.6682,  50.853 ,  53.0377],\n",
       "       [ 86.9591,  87.0685,  88.3735, ...,  75.2206,  76.6396,  79.2865],\n",
       "       [123.125 , 125.8581, 122.0757, ...,  93.9349, 104.7875, 113.8252],\n",
       "       ...,\n",
       "       [154.094 , 155.8057, 156.8164, ..., 135.1328, 136.6596, 137.6595],\n",
       "       [207.4954, 208.4953, 213.0218, ..., 214.1357, 212.1359, 209.1362],\n",
       "       [ 95.0784,  96.0783, 100.0779, ..., 138.0803, 140.493 , 140.493 ]],\n",
       "      dtype=float32)"
      ]
     },
     "execution_count": 15,
     "metadata": {
      "tags": []
     },
     "output_type": "execute_result"
    }
   ],
   "source": [
    "X_train"
   ]
  },
  {
   "cell_type": "code",
   "execution_count": 16,
   "metadata": {
    "colab": {
     "base_uri": "https://localhost:8080/",
     "height": 35
    },
    "colab_type": "code",
    "executionInfo": {
     "elapsed": 1871,
     "status": "ok",
     "timestamp": 1552851955020,
     "user": {
      "displayName": "Narmada K",
      "photoUrl": "",
      "userId": "14352630564959647803"
     },
     "user_tz": -330
    },
    "id": "4oUxbMHJ8dgU",
    "outputId": "f875dfa7-c4d0-4b24-9fa1-747acd6637d6"
   },
   "outputs": [
    {
     "data": {
      "text/plain": [
       "array([2, 6, 7, ..., 7, 0, 4], dtype=uint8)"
      ]
     },
     "execution_count": 16,
     "metadata": {
      "tags": []
     },
     "output_type": "execute_result"
    }
   ],
   "source": [
    "y_train"
   ]
  },
  {
   "cell_type": "markdown",
   "metadata": {
    "colab_type": "text",
    "id": "CjDNcmoT32qx"
   },
   "source": [
    "## Implement and apply an optimal k-Nearest Neighbor (kNN) classifier (7.5 points)"
   ]
  },
  {
   "cell_type": "code",
   "execution_count": 0,
   "metadata": {
    "colab": {},
    "colab_type": "code",
    "id": "lbLN8VtRGKSj"
   },
   "outputs": [],
   "source": [
    "from sklearn.neighbors import KNeighborsClassifier\n",
    "from sklearn.metrics import confusion_matrix\n",
    "from sklearn.metrics import classification_report"
   ]
  },
  {
   "cell_type": "code",
   "execution_count": 0,
   "metadata": {
    "colab": {},
    "colab_type": "code",
    "id": "CZdf-cPT-cIN"
   },
   "outputs": [],
   "source": [
    "from sklearn.model_selection import cross_val_score"
   ]
  },
  {
   "cell_type": "code",
   "execution_count": 19,
   "metadata": {
    "colab": {
     "base_uri": "https://localhost:8080/",
     "height": 72
    },
    "colab_type": "code",
    "executionInfo": {
     "elapsed": 1702,
     "status": "ok",
     "timestamp": 1552851956980,
     "user": {
      "displayName": "Narmada K",
      "photoUrl": "",
      "userId": "14352630564959647803"
     },
     "user_tz": -330
    },
    "id": "GnsTKibYCvIy",
    "outputId": "aedad3ce-7102-4fff-9e3c-25dbf74e67ea"
   },
   "outputs": [
    {
     "data": {
      "text/plain": [
       "KNeighborsClassifier(algorithm='brute', leaf_size=30, metric='minkowski',\n",
       "           metric_params=None, n_jobs=None, n_neighbors=5, p=2,\n",
       "           weights='uniform')"
      ]
     },
     "execution_count": 19,
     "metadata": {
      "tags": []
     },
     "output_type": "execute_result"
    }
   ],
   "source": [
    "model = KNeighborsClassifier(n_neighbors=5,  algorithm = 'brute')\n",
    "model.fit(X_train, y_train) "
   ]
  },
  {
   "cell_type": "code",
   "execution_count": 20,
   "metadata": {
    "colab": {
     "base_uri": "https://localhost:8080/",
     "height": 54
    },
    "colab_type": "code",
    "executionInfo": {
     "elapsed": 132851,
     "status": "ok",
     "timestamp": 1552852088815,
     "user": {
      "displayName": "Narmada K",
      "photoUrl": "",
      "userId": "14352630564959647803"
     },
     "user_tz": -330
    },
    "id": "YGGbSY_YC2pR",
    "outputId": "4dd0c34b-975f-453d-cf07-575d0b6b5f3f"
   },
   "outputs": [
    {
     "name": "stdout",
     "output_type": "stream",
     "text": [
      "Train accuracy : 0.6815714285714286\n",
      "Test accuracy : 0.49016666666666664\n"
     ]
    }
   ],
   "source": [
    "# accuracy score for train data and test\n",
    "print(\"Train accuracy :\",model.score(X_train, y_train))\n",
    "print(\"Test accuracy :\",model.score(X_test, y_test))"
   ]
  },
  {
   "cell_type": "code",
   "execution_count": 22,
   "metadata": {
    "colab": {
     "base_uri": "https://localhost:8080/",
     "height": 472
    },
    "colab_type": "code",
    "executionInfo": {
     "elapsed": 1471769,
     "status": "ok",
     "timestamp": 1552853634610,
     "user": {
      "displayName": "Narmada K",
      "photoUrl": "",
      "userId": "14352630564959647803"
     },
     "user_tz": -330
    },
    "id": "To9y2fPm13py",
    "outputId": "14100e9b-0ea0-49a4-baad-35ec68528f54"
   },
   "outputs": [
    {
     "name": "stdout",
     "output_type": "stream",
     "text": [
      "k=1, accuracy=0.44%\n",
      "k=3, accuracy=0.43%\n",
      "k=5, accuracy=0.46%\n",
      "k=7, accuracy=0.47%\n",
      "k=9, accuracy=0.48%\n",
      "k=11, accuracy=0.48%\n",
      "k=13, accuracy=0.49%\n",
      "k=15, accuracy=0.49%\n",
      "k=17, accuracy=0.49%\n",
      "k=19, accuracy=0.49%\n",
      "k=21, accuracy=0.50%\n",
      "k=23, accuracy=0.50%\n",
      "k=25, accuracy=0.49%\n",
      "k=27, accuracy=0.50%\n",
      "k=29, accuracy=0.50%\n",
      "k=31, accuracy=0.50%\n",
      "k=33, accuracy=0.50%\n",
      "k=35, accuracy=0.50%\n",
      "k=37, accuracy=0.50%\n",
      "k=39, accuracy=0.50%\n",
      "k=41, accuracy=0.50%\n",
      "k=43, accuracy=0.50%\n",
      "k=45, accuracy=0.50%\n",
      "k=47, accuracy=0.50%\n",
      "k=49, accuracy=0.50%\n"
     ]
    }
   ],
   "source": [
    "# initialize the values of k for our k-Nearest Neighbor classifier along with the\n",
    "# list of accuracies for each value of k\n",
    "\n",
    "accuracies = []\n",
    "\n",
    "# loop over various values of `k` for the k-Nearest Neighbor classifier\n",
    "\n",
    "for k in range(1, 50, 2):\n",
    "          # train the k-Nearest Neighbor classifier with the current value of `k`\n",
    "          model1 = KNeighborsClassifier(n_neighbors=k, algorithm = 'brute')\n",
    " \n",
    "          # evaluate the model and update the accuracies list\n",
    "          scores = cross_val_score(model1, X_train, y_train, cv=3, scoring='accuracy')\n",
    "          print(\"k=%d, accuracy=%.2f%%\" % (k, scores[-1]))\n",
    "          accuracies.append(scores.mean())"
   ]
  },
  {
   "cell_type": "markdown",
   "metadata": {
    "colab_type": "text",
    "id": "__5aXnLcNd3u"
   },
   "source": [
    "### Obseravation: Optimal number of neighbour is between 19 - 21. Lets find the optimal k."
   ]
  },
  {
   "cell_type": "code",
   "execution_count": 37,
   "metadata": {
    "colab": {
     "base_uri": "https://localhost:8080/",
     "height": 353
    },
    "colab_type": "code",
    "executionInfo": {
     "elapsed": 1895,
     "status": "ok",
     "timestamp": 1552855145784,
     "user": {
      "displayName": "Narmada K",
      "photoUrl": "",
      "userId": "14352630564959647803"
     },
     "user_tz": -330
    },
    "id": "BncgMWD12AMG",
    "outputId": "835a23f4-1471-470c-f101-e7b9a22147e3"
   },
   "outputs": [
    {
     "data": {
      "image/png": "[encoded data removed]",
      "text/plain": [
       "<Figure size 720x360 with 1 Axes>"
      ]
     },
     "metadata": {
      "tags": []
     },
     "output_type": "display_data"
    },
    {
     "name": "stdout",
     "output_type": "stream",
     "text": [
      "optimal k is 14\n"
     ]
    }
   ],
   "source": [
    "# OPTIMAL k\n",
    "\n",
    "plt.plot(MSE)\n",
    "plt.xlabel('number of neighbors')\n",
    "plt.ylabel('MSE')\n",
    "plt.show()\n",
    "\n",
    "MSE = [1 - x for x in accuracies]\n",
    "\n",
    "print (\"optimal k is\", MSE.index(min(MSE))) "
   ]
  },
  {
   "cell_type": "code",
   "execution_count": 38,
   "metadata": {
    "colab": {
     "base_uri": "https://localhost:8080/",
     "height": 72
    },
    "colab_type": "code",
    "executionInfo": {
     "elapsed": 1672,
     "status": "ok",
     "timestamp": 1552855202292,
     "user": {
      "displayName": "Narmada K",
      "photoUrl": "",
      "userId": "14352630564959647803"
     },
     "user_tz": -330
    },
    "id": "ubJyRHm-YTyg",
    "outputId": "f860ad26-5e18-404f-813c-12e373f448b0"
   },
   "outputs": [
    {
     "data": {
      "text/plain": [
       "KNeighborsClassifier(algorithm='brute', leaf_size=30, metric='minkowski',\n",
       "           metric_params=None, n_jobs=None, n_neighbors=14, p=2,\n",
       "           weights='uniform')"
      ]
     },
     "execution_count": 38,
     "metadata": {
      "tags": []
     },
     "output_type": "execute_result"
    }
   ],
   "source": [
    "knn = KNeighborsClassifier(n_neighbors=14,  algorithm = 'brute')\n",
    "knn.fit(X_train, y_train) "
   ]
  },
  {
   "cell_type": "code",
   "execution_count": 40,
   "metadata": {
    "colab": {
     "base_uri": "https://localhost:8080/",
     "height": 54
    },
    "colab_type": "code",
    "executionInfo": {
     "elapsed": 39522,
     "status": "ok",
     "timestamp": 1552855376001,
     "user": {
      "displayName": "Narmada K",
      "photoUrl": "",
      "userId": "14352630564959647803"
     },
     "user_tz": -330
    },
    "id": "IXkQiBfwYehe",
    "outputId": "70a2eb32-f975-4116-a9eb-eaacd7c72958"
   },
   "outputs": [
    {
     "name": "stdout",
     "output_type": "stream",
     "text": [
      "Train accuracy : 0.6290476190476191\n",
      "Test accuracy : 0.5218888888888888\n"
     ]
    }
   ],
   "source": [
    "# accuracy score for train data and test\n",
    "print(\"Train accuracy :\",knn.score(X_train, y_train))\n",
    "print(\"Test accuracy :\",knn.score(X_test, y_test))"
   ]
  },
  {
   "cell_type": "markdown",
   "metadata": {
    "colab_type": "text",
    "id": "qCSsr8Kl38l0"
   },
   "source": [
    "## Print the classification metric report (2.5 points)"
   ]
  },
  {
   "cell_type": "code",
   "execution_count": 0,
   "metadata": {
    "colab": {},
    "colab_type": "code",
    "id": "mIlSEdLT3_Pl"
   },
   "outputs": [],
   "source": [
    "predict_knn = knn.predict(X_test)"
   ]
  },
  {
   "cell_type": "code",
   "execution_count": 0,
   "metadata": {
    "colab": {},
    "colab_type": "code",
    "id": "uNvnsBWd4Ad7"
   },
   "outputs": [],
   "source": [
    "from sklearn.metrics import classification_report\n"
   ]
  },
  {
   "cell_type": "code",
   "execution_count": 43,
   "metadata": {
    "colab": {
     "base_uri": "https://localhost:8080/",
     "height": 326
    },
    "colab_type": "code",
    "executionInfo": {
     "elapsed": 1642,
     "status": "ok",
     "timestamp": 1552855472040,
     "user": {
      "displayName": "Narmada K",
      "photoUrl": "",
      "userId": "14352630564959647803"
     },
     "user_tz": -330
    },
    "id": "yx7pDI134AtJ",
    "outputId": "7268db1e-216f-4a1f-efbd-1e39fd1be60c"
   },
   "outputs": [
    {
     "name": "stdout",
     "output_type": "stream",
     "text": [
      "              precision    recall  f1-score   support\n",
      "\n",
      "           0       0.43      0.68      0.52      1814\n",
      "           1       0.46      0.73      0.57      1828\n",
      "           2       0.61      0.54      0.57      1803\n",
      "           3       0.45      0.43      0.44      1719\n",
      "           4       0.66      0.65      0.65      1812\n",
      "           5       0.50      0.39      0.43      1768\n",
      "           6       0.48      0.40      0.44      1832\n",
      "           7       0.71      0.62      0.66      1808\n",
      "           8       0.46      0.36      0.40      1812\n",
      "           9       0.57      0.42      0.49      1804\n",
      "\n",
      "   micro avg       0.52      0.52      0.52     18000\n",
      "   macro avg       0.53      0.52      0.52     18000\n",
      "weighted avg       0.53      0.52      0.52     18000\n",
      "\n"
     ]
    }
   ],
   "source": [
    "#Classification Report\n",
    "CR_Knn = classification_report(y_test, predict_knn)\n",
    "print(CR_Knn)"
   ]
  },
  {
   "cell_type": "markdown",
   "metadata": {
    "colab_type": "text",
    "id": "ghek7E-WZsWw"
   },
   "source": [
    "### Observation: Optimal value of k is 14, which gave an accuracy of 52%. "
   ]
  },
  {
   "cell_type": "markdown",
   "metadata": {
    "colab_type": "text",
    "id": "l8RaygXX4BLZ"
   },
   "source": [
    "## Implement and apply a deep neural network classifier including (feedforward neural network, RELU activations) (5 points)"
   ]
  },
  {
   "cell_type": "code",
   "execution_count": 0,
   "metadata": {
    "colab": {},
    "colab_type": "code",
    "id": "Vx9Us2ijWezR"
   },
   "outputs": [],
   "source": [
    "import tensorflow as tf\n",
    "import keras"
   ]
  },
  {
   "cell_type": "code",
   "execution_count": 0,
   "metadata": {
    "colab": {},
    "colab_type": "code",
    "id": "TfXq3UJo4EXQ"
   },
   "outputs": [],
   "source": [
    "# one hot encode Y\n",
    "train_y = tf.keras.utils.to_categorical(y_train, num_classes=10)\n",
    "test_y = tf.keras.utils.to_categorical(y_test, num_classes=10)"
   ]
  },
  {
   "cell_type": "code",
   "execution_count": 0,
   "metadata": {
    "colab": {},
    "colab_type": "code",
    "id": "ePMnvMz_4FOC"
   },
   "outputs": [],
   "source": [
    "#Initialize Sequential model\n",
    "model = tf.keras.models.Sequential()\n",
    "\n",
    "#Add 1st hidden layer\n",
    "model.add(tf.keras.layers.Dense(200, activation='relu'))\n",
    "\n",
    "#Add 2nd hidden layer\n",
    "model.add(tf.keras.layers.Dense(100, activation='relu'))\n",
    "\n",
    "#Add OUTPUT layer\n",
    "model.add(tf.keras.layers.Dense(10, activation='softmax'))\n",
    "\n",
    "#Compile the model\n",
    "model.compile(optimizer='adam', loss='mean_squared_error', metrics=['accuracy'])"
   ]
  },
  {
   "cell_type": "code",
   "execution_count": 47,
   "metadata": {
    "colab": {
     "base_uri": "https://localhost:8080/",
     "height": 417
    },
    "colab_type": "code",
    "executionInfo": {
     "elapsed": 112366,
     "status": "ok",
     "timestamp": 1552855755217,
     "user": {
      "displayName": "Narmada K",
      "photoUrl": "",
      "userId": "14352630564959647803"
     },
     "user_tz": -330
    },
    "id": "bfBEJmac4FYk",
    "outputId": "797eea9e-4cee-4564-8650-049d5f5f1a1b"
   },
   "outputs": [
    {
     "name": "stdout",
     "output_type": "stream",
     "text": [
      "Train on 42000 samples, validate on 18000 samples\n",
      "Epoch 1/10\n",
      "42000/42000 [==============================] - 11s 263us/sample - loss: 0.1801 - acc: 0.0996 - val_loss: 0.1799 - val_acc: 0.1007\n",
      "Epoch 2/10\n",
      "42000/42000 [==============================] - 11s 262us/sample - loss: 0.1801 - acc: 0.0997 - val_loss: 0.1799 - val_acc: 0.1007\n",
      "Epoch 3/10\n",
      "42000/42000 [==============================] - 11s 261us/sample - loss: 0.1801 - acc: 0.0997 - val_loss: 0.1799 - val_acc: 0.1007\n",
      "Epoch 4/10\n",
      "42000/42000 [==============================] - 11s 263us/sample - loss: 0.1801 - acc: 0.0997 - val_loss: 0.1799 - val_acc: 0.1007\n",
      "Epoch 5/10\n",
      "42000/42000 [==============================] - 11s 262us/sample - loss: 0.1801 - acc: 0.0997 - val_loss: 0.1799 - val_acc: 0.1007\n",
      "Epoch 6/10\n",
      "42000/42000 [==============================] - 11s 261us/sample - loss: 0.1801 - acc: 0.0997 - val_loss: 0.1799 - val_acc: 0.1007\n",
      "Epoch 7/10\n",
      "42000/42000 [==============================] - 11s 262us/sample - loss: 0.1801 - acc: 0.0997 - val_loss: 0.1799 - val_acc: 0.1007\n",
      "Epoch 8/10\n",
      "42000/42000 [==============================] - 11s 263us/sample - loss: 0.1801 - acc: 0.0997 - val_loss: 0.1799 - val_acc: 0.1007\n",
      "Epoch 9/10\n",
      "42000/42000 [==============================] - 11s 265us/sample - loss: 0.1801 - acc: 0.0997 - val_loss: 0.1799 - val_acc: 0.1007\n",
      "Epoch 10/10\n",
      "42000/42000 [==============================] - 11s 263us/sample - loss: 0.1801 - acc: 0.0997 - val_loss: 0.1799 - val_acc: 0.1007\n"
     ]
    },
    {
     "data": {
      "text/plain": [
       "<tensorflow.python.keras.callbacks.History at 0x7f7e90eb1630>"
      ]
     },
     "execution_count": 47,
     "metadata": {
      "tags": []
     },
     "output_type": "execute_result"
    }
   ],
   "source": [
    "model.fit(X_train,train_y,          \n",
    "          validation_data=(X_test,test_y),\n",
    "          epochs=10,\n",
    "          batch_size=20)"
   ]
  },
  {
   "cell_type": "markdown",
   "metadata": {
    "colab_type": "text",
    "id": "N_A7EFdNP5qI"
   },
   "source": [
    "### Observation : very low accuracy."
   ]
  },
  {
   "cell_type": "markdown",
   "metadata": {
    "colab_type": "text",
    "id": "QnYqrhr44Fup"
   },
   "source": [
    "## Understand and be able to implement (vectorized) backpropagation (cost stochastic gradient descent, cross entropy loss, cost functions) (2.5 points)"
   ]
  },
  {
   "cell_type": "code",
   "execution_count": 0,
   "metadata": {
    "colab": {},
    "colab_type": "code",
    "id": "VsKfsy3O4Is4"
   },
   "outputs": [],
   "source": [
    "#Initialize Sequential model\n",
    "model2 = tf.keras.models.Sequential()\n",
    "\n",
    "#Add 1st hidden layer\n",
    "model2.add(tf.keras.layers.Dense(200, activation='relu'))\n",
    "\n",
    "#Add 2nd hidden layer\n",
    "model2.add(tf.keras.layers.Dense(100, activation='relu'))\n",
    "\n",
    "#Add OUTPUT layer\n",
    "model2.add(tf.keras.layers.Dense(10, activation='softmax'))\n",
    "\n",
    "#optimizer \n",
    "sgd_optimizer = tf.keras.optimizers.SGD(lr=0.03)\n",
    "\n",
    "#Compile the model\n",
    "model2.compile(optimizer=sgd_optimizer, loss='categorical_crossentropy', metrics=['accuracy'])"
   ]
  },
  {
   "cell_type": "code",
   "execution_count": 49,
   "metadata": {
    "colab": {
     "base_uri": "https://localhost:8080/",
     "height": 417
    },
    "colab_type": "code",
    "executionInfo": {
     "elapsed": 96118,
     "status": "ok",
     "timestamp": 1552855897078,
     "user": {
      "displayName": "Narmada K",
      "photoUrl": "",
      "userId": "14352630564959647803"
     },
     "user_tz": -330
    },
    "id": "pqcqkL1F4KH7",
    "outputId": "73af2c4e-cff4-4e11-8412-92df524a3ac4"
   },
   "outputs": [
    {
     "name": "stdout",
     "output_type": "stream",
     "text": [
      "Train on 42000 samples, validate on 18000 samples\n",
      "Epoch 1/10\n",
      "42000/42000 [==============================] - 9s 225us/sample - loss: 14.4760 - acc: 0.1019 - val_loss: 14.5788 - val_acc: 0.0955\n",
      "Epoch 2/10\n",
      "42000/42000 [==============================] - 9s 223us/sample - loss: 14.4752 - acc: 0.1019 - val_loss: 14.5788 - val_acc: 0.0955\n",
      "Epoch 3/10\n",
      "42000/42000 [==============================] - 9s 223us/sample - loss: 14.4752 - acc: 0.1019 - val_loss: 14.5788 - val_acc: 0.0955\n",
      "Epoch 4/10\n",
      "42000/42000 [==============================] - 9s 224us/sample - loss: 14.4752 - acc: 0.1019 - val_loss: 14.5788 - val_acc: 0.0955\n",
      "Epoch 5/10\n",
      "42000/42000 [==============================] - 9s 225us/sample - loss: 14.4752 - acc: 0.1019 - val_loss: 14.5788 - val_acc: 0.0955\n",
      "Epoch 6/10\n",
      "42000/42000 [==============================] - 9s 223us/sample - loss: 14.4752 - acc: 0.1019 - val_loss: 14.5788 - val_acc: 0.0955\n",
      "Epoch 7/10\n",
      "42000/42000 [==============================] - 9s 225us/sample - loss: 14.4752 - acc: 0.1019 - val_loss: 14.5788 - val_acc: 0.0955\n",
      "Epoch 8/10\n",
      "42000/42000 [==============================] - 9s 224us/sample - loss: 14.4752 - acc: 0.1019 - val_loss: 14.5788 - val_acc: 0.0955\n",
      "Epoch 9/10\n",
      "42000/42000 [==============================] - 10s 227us/sample - loss: 14.4752 - acc: 0.1019 - val_loss: 14.5788 - val_acc: 0.0955\n",
      "Epoch 10/10\n",
      "42000/42000 [==============================] - 9s 223us/sample - loss: 14.4752 - acc: 0.1019 - val_loss: 14.5788 - val_acc: 0.0955\n"
     ]
    },
    {
     "data": {
      "text/plain": [
       "<tensorflow.python.keras.callbacks.History at 0x7f7e905b1208>"
      ]
     },
     "execution_count": 49,
     "metadata": {
      "tags": []
     },
     "output_type": "execute_result"
    }
   ],
   "source": [
    "model2.fit(X_train,train_y,          \n",
    "          validation_data=(X_test,test_y),\n",
    "          epochs=10,\n",
    "          batch_size=20)"
   ]
  },
  {
   "cell_type": "markdown",
   "metadata": {
    "colab_type": "text",
    "id": "wHTr3WE2QZij"
   },
   "source": [
    "### Observation:  Still low accuracy even with the sgd optimizer. "
   ]
  },
  {
   "cell_type": "markdown",
   "metadata": {
    "colab_type": "text",
    "id": "gOsh406b4K6s"
   },
   "source": [
    "## Implement batch normalization for training the neural network (2.5 points)"
   ]
  },
  {
   "cell_type": "code",
   "execution_count": 0,
   "metadata": {
    "colab": {},
    "colab_type": "code",
    "id": "72XQQSlK4Oi8"
   },
   "outputs": [],
   "source": [
    "#Initialize Sequential model\n",
    "model3 = tf.keras.models.Sequential()\n",
    "\n",
    "#Normalize the data\n",
    "model3.add(tf.keras.layers.BatchNormalization())\n",
    "\n",
    "#Add 1st hidden layer\n",
    "model3.add(tf.keras.layers.Dense(200, activation='relu'))\n",
    "\n",
    "#Add 2nd hidden layer\n",
    "model3.add(tf.keras.layers.Dense(100, activation='relu'))\n",
    "\n",
    "#Add OUTPUT layer\n",
    "model3.add(tf.keras.layers.Dense(10, activation='softmax'))\n",
    "\n",
    "#optimizer \n",
    "sgd_optimizer = tf.keras.optimizers.SGD(lr=0.03)\n",
    "\n",
    "#Compile the model\n",
    "model3.compile(optimizer=sgd_optimizer, loss='categorical_crossentropy', metrics=['accuracy'])"
   ]
  },
  {
   "cell_type": "code",
   "execution_count": 51,
   "metadata": {
    "colab": {
     "base_uri": "https://localhost:8080/",
     "height": 417
    },
    "colab_type": "code",
    "executionInfo": {
     "elapsed": 109534,
     "status": "ok",
     "timestamp": 1552856147222,
     "user": {
      "displayName": "Narmada K",
      "photoUrl": "",
      "userId": "14352630564959647803"
     },
     "user_tz": -330
    },
    "id": "hnTgXPtT4PZ0",
    "outputId": "4951d681-02d3-48e8-fa76-0af991f08f1d"
   },
   "outputs": [
    {
     "name": "stdout",
     "output_type": "stream",
     "text": [
      "Train on 42000 samples, validate on 18000 samples\n",
      "Epoch 1/10\n",
      "42000/42000 [==============================] - 11s 261us/sample - loss: 1.3939 - acc: 0.5410 - val_loss: 0.9862 - val_acc: 0.6977\n",
      "Epoch 2/10\n",
      "42000/42000 [==============================] - 11s 255us/sample - loss: 0.9961 - acc: 0.6856 - val_loss: 0.8056 - val_acc: 0.7579\n",
      "Epoch 3/10\n",
      "42000/42000 [==============================] - 11s 256us/sample - loss: 0.8880 - acc: 0.7190 - val_loss: 0.7246 - val_acc: 0.7877\n",
      "Epoch 4/10\n",
      "42000/42000 [==============================] - 11s 254us/sample - loss: 0.8155 - acc: 0.7426 - val_loss: 0.7018 - val_acc: 0.7949\n",
      "Epoch 5/10\n",
      "42000/42000 [==============================] - 11s 254us/sample - loss: 0.7731 - acc: 0.7565 - val_loss: 0.6708 - val_acc: 0.8062\n",
      "Epoch 6/10\n",
      "42000/42000 [==============================] - 11s 254us/sample - loss: 0.7355 - acc: 0.7662 - val_loss: 0.6665 - val_acc: 0.8064\n",
      "Epoch 7/10\n",
      "42000/42000 [==============================] - 11s 254us/sample - loss: 0.7147 - acc: 0.7736 - val_loss: 0.6278 - val_acc: 0.8191\n",
      "Epoch 8/10\n",
      "42000/42000 [==============================] - 11s 254us/sample - loss: 0.6928 - acc: 0.7795 - val_loss: 0.6554 - val_acc: 0.8063\n",
      "Epoch 9/10\n",
      "42000/42000 [==============================] - 11s 254us/sample - loss: 0.6720 - acc: 0.7865 - val_loss: 0.6185 - val_acc: 0.8218\n",
      "Epoch 10/10\n",
      "42000/42000 [==============================] - 11s 255us/sample - loss: 0.6559 - acc: 0.7914 - val_loss: 0.6152 - val_acc: 0.8253\n"
     ]
    },
    {
     "data": {
      "text/plain": [
       "<tensorflow.python.keras.callbacks.History at 0x7f7e90141748>"
      ]
     },
     "execution_count": 51,
     "metadata": {
      "tags": []
     },
     "output_type": "execute_result"
    }
   ],
   "source": [
    "model3.fit(X_train,train_y,          \n",
    "          validation_data=(X_test,test_y),\n",
    "          epochs=10,\n",
    "          batch_size=20)"
   ]
  },
  {
   "cell_type": "code",
   "execution_count": 0,
   "metadata": {
    "colab": {},
    "colab_type": "code",
    "id": "jgv5yLBC4Pgd"
   },
   "outputs": [],
   "source": [
    "predict = model3.predict(X_test)"
   ]
  },
  {
   "cell_type": "code",
   "execution_count": 53,
   "metadata": {
    "colab": {
     "base_uri": "https://localhost:8080/",
     "height": 326
    },
    "colab_type": "code",
    "executionInfo": {
     "elapsed": 1384,
     "status": "ok",
     "timestamp": 1552856209926,
     "user": {
      "displayName": "Narmada K",
      "photoUrl": "",
      "userId": "14352630564959647803"
     },
     "user_tz": -330
    },
    "id": "zucUzBxgSQk8",
    "outputId": "704d951f-e2ac-46c7-acb5-2858bd11e0ca"
   },
   "outputs": [
    {
     "name": "stdout",
     "output_type": "stream",
     "text": [
      "              precision    recall  f1-score   support\n",
      "\n",
      "           0       0.78      0.90      0.84      1814\n",
      "           1       0.82      0.85      0.84      1828\n",
      "           2       0.88      0.84      0.86      1803\n",
      "           3       0.85      0.71      0.77      1719\n",
      "           4       0.84      0.89      0.86      1812\n",
      "           5       0.74      0.87      0.80      1768\n",
      "           6       0.88      0.78      0.83      1832\n",
      "           7       0.88      0.85      0.87      1808\n",
      "           8       0.82      0.76      0.79      1812\n",
      "           9       0.81      0.80      0.80      1804\n",
      "\n",
      "   micro avg       0.83      0.83      0.83     18000\n",
      "   macro avg       0.83      0.82      0.82     18000\n",
      "weighted avg       0.83      0.83      0.82     18000\n",
      "\n"
     ]
    }
   ],
   "source": [
    "CR_NN = classification_report(test_y.argmax(axis=1), predict.argmax(axis=1))\n",
    "print(CR_NN)"
   ]
  },
  {
   "cell_type": "markdown",
   "metadata": {
    "colab_type": "text",
    "id": "H5ioeVjkcb9F"
   },
   "source": [
    "### Observation : Accuracy is 82% with NN."
   ]
  },
  {
   "cell_type": "markdown",
   "metadata": {
    "colab_type": "text",
    "id": "nwG_gdEf4Pwf"
   },
   "source": [
    "## Understand the differences and trade-offs between traditional and NN classifiers with the help of classification metrics (5 points)"
   ]
  },
  {
   "cell_type": "code",
   "execution_count": 54,
   "metadata": {
    "colab": {
     "base_uri": "https://localhost:8080/",
     "height": 635
    },
    "colab_type": "code",
    "executionInfo": {
     "elapsed": 1625,
     "status": "ok",
     "timestamp": 1552856301812,
     "user": {
      "displayName": "Narmada K",
      "photoUrl": "",
      "userId": "14352630564959647803"
     },
     "user_tz": -330
    },
    "id": "6WbATqAg4TbN",
    "outputId": "7a09eeb6-4b7d-436b-a62b-5ea9f2c4391d"
   },
   "outputs": [
    {
     "name": "stdout",
     "output_type": "stream",
     "text": [
      "              precision    recall  f1-score   support\n",
      "\n",
      "           0       0.43      0.68      0.52      1814\n",
      "           1       0.46      0.73      0.57      1828\n",
      "           2       0.61      0.54      0.57      1803\n",
      "           3       0.45      0.43      0.44      1719\n",
      "           4       0.66      0.65      0.65      1812\n",
      "           5       0.50      0.39      0.43      1768\n",
      "           6       0.48      0.40      0.44      1832\n",
      "           7       0.71      0.62      0.66      1808\n",
      "           8       0.46      0.36      0.40      1812\n",
      "           9       0.57      0.42      0.49      1804\n",
      "\n",
      "   micro avg       0.52      0.52      0.52     18000\n",
      "   macro avg       0.53      0.52      0.52     18000\n",
      "weighted avg       0.53      0.52      0.52     18000\n",
      "\n",
      "              precision    recall  f1-score   support\n",
      "\n",
      "           0       0.78      0.90      0.84      1814\n",
      "           1       0.82      0.85      0.84      1828\n",
      "           2       0.88      0.84      0.86      1803\n",
      "           3       0.85      0.71      0.77      1719\n",
      "           4       0.84      0.89      0.86      1812\n",
      "           5       0.74      0.87      0.80      1768\n",
      "           6       0.88      0.78      0.83      1832\n",
      "           7       0.88      0.85      0.87      1808\n",
      "           8       0.82      0.76      0.79      1812\n",
      "           9       0.81      0.80      0.80      1804\n",
      "\n",
      "   micro avg       0.83      0.83      0.83     18000\n",
      "   macro avg       0.83      0.82      0.82     18000\n",
      "weighted avg       0.83      0.83      0.82     18000\n",
      "\n"
     ]
    }
   ],
   "source": [
    "# Print classification report of KNN and NN\n",
    "print(CR_Knn)\n",
    "print(CR_NN)"
   ]
  },
  {
   "cell_type": "markdown",
   "metadata": {
    "colab_type": "text",
    "id": "jF9OCmMobDju"
   },
   "source": [
    "### Observation: \n",
    "\n",
    "1. Traditional Knn was much slower than the NeuralNet classifier.\n",
    "2.  On comparing the two classification Report we can see that NeuralNet gives better results than Knn.\n",
    "3. Knn precision scores vary widely between the classes and is much lower when compared to Cnn. Even though it has equal data distribution among the classes the precision varies in knn whihc indicates precision does not depend on the distribution of data.Whereas Dnn Precision depends on the equal distribution of data of the classes."
   ]
  },
  {
   "cell_type": "code",
   "execution_count": 0,
   "metadata": {
    "colab": {},
    "colab_type": "code",
    "id": "bubOk10aeCFN"
   },
   "outputs": [],
   "source": []
  }
 ],
 "metadata": {
  "accelerator": "GPU",
  "colab": {
   "collapsed_sections": [],
   "name": "R7_Project2_NeuralNetwork.ipynb",
   "provenance": [],
   "version": "0.3.2"
  },
  "kernelspec": {
   "display_name": "Python 3",
   "language": "python",
   "name": "python3"
  },
  "language_info": {
   "codemirror_mode": {
    "name": "ipython",
    "version": 3
   },
   "file_extension": ".py",
   "mimetype": "text/x-python",
   "name": "python",
   "nbconvert_exporter": "python",
   "pygments_lexer": "ipython3",
   "version": "3.6.5"
  }
 },
 "nbformat": 4,
 "nbformat_minor": 1
}
