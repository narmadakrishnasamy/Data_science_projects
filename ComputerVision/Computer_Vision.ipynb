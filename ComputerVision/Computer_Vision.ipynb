{
 "cells": [
  {
   "cell_type": "markdown",
   "metadata": {
    "colab_type": "text",
    "id": "4OtVEKVoJPDl"
   },
   "source": [
    "### 1. Reading the images and generate the train and test dataset "
   ]
  },
  {
   "cell_type": "code",
   "execution_count": 0,
   "metadata": {
    "colab": {},
    "colab_type": "code",
    "id": "AxCDxJsbJPDm"
   },
   "outputs": [],
   "source": [
    "from google.colab import drive"
   ]
  },
  {
   "cell_type": "code",
   "execution_count": 32,
   "metadata": {
    "colab": {
     "base_uri": "https://localhost:8080/",
     "height": 35
    },
    "colab_type": "code",
    "executionInfo": {
     "elapsed": 849,
     "status": "ok",
     "timestamp": 1552861300224,
     "user": {
      "displayName": "Narmada K",
      "photoUrl": "",
      "userId": "14352630564959647803"
     },
     "user_tz": -330
    },
    "id": "w6MpYXv-JPDp",
    "outputId": "88757b57-be95-4b1d-9db7-267a9b12ed16"
   },
   "outputs": [
    {
     "name": "stdout",
     "output_type": "stream",
     "text": [
      "Drive already mounted at /content/drive; to attempt to forcibly remount, call drive.mount(\"/content/drive\", force_remount=True).\n"
     ]
    }
   ],
   "source": [
    "drive.mount('/content/drive')"
   ]
  },
  {
   "cell_type": "code",
   "execution_count": 0,
   "metadata": {
    "colab": {},
    "colab_type": "code",
    "id": "Se_uXWNLJPDs"
   },
   "outputs": [],
   "source": [
    "import os\n",
    "os.chdir('/content/drive/My Drive/Colab Notebooks')"
   ]
  },
  {
   "cell_type": "code",
   "execution_count": 0,
   "metadata": {
    "colab": {},
    "colab_type": "code",
    "id": "JFeqiqUhJPDu"
   },
   "outputs": [],
   "source": [
    "from zipfile import ZipFile\n",
    "with ZipFile('plant-seedlings-classification.zip', 'r') as z:\n",
    "  z.extractall()"
   ]
  },
  {
   "cell_type": "code",
   "execution_count": 0,
   "metadata": {
    "colab": {},
    "colab_type": "code",
    "id": "4voxNTEhJPDy"
   },
   "outputs": [],
   "source": [
    "from zipfile import ZipFile\n",
    "with ZipFile('test.zip', 'r') as z:\n",
    "  z.extractall()"
   ]
  },
  {
   "cell_type": "code",
   "execution_count": 0,
   "metadata": {
    "colab": {},
    "colab_type": "code",
    "id": "DRZhwvwOsK_m"
   },
   "outputs": [],
   "source": [
    "from zipfile import ZipFile\n",
    "with ZipFile('train.zip', 'r') as z:\n",
    "  z.extractall()"
   ]
  },
  {
   "cell_type": "code",
   "execution_count": 0,
   "metadata": {
    "colab": {},
    "colab_type": "code",
    "id": "uGni_-H4JPD1"
   },
   "outputs": [],
   "source": [
    "# extract the test data\n",
    "x_test=[]\n",
    "os.chdir('/content/drive/My Drive/Colab Notebooks/test')\n",
    "import cv2\n",
    "for i in os.listdir():\n",
    "    dummy = cv2.imread(i)\n",
    "    dummy = cv2.resize(dummy,(128,128)) #resize to have all the images of same size\n",
    "    x_test.append(dummy)\n",
    "    x_test.append(i)\n"
   ]
  },
  {
   "cell_type": "code",
   "execution_count": 0,
   "metadata": {
    "colab": {},
    "colab_type": "code",
    "id": "MbbdbfmUJPD4"
   },
   "outputs": [],
   "source": [
    "# split the data\n",
    "x_train = []\n",
    "y_train = []"
   ]
  },
  {
   "cell_type": "code",
   "execution_count": 0,
   "metadata": {
    "colab": {},
    "colab_type": "code",
    "id": "q5hC-hM4JPD6"
   },
   "outputs": [],
   "source": [
    "import os\n",
    "os.chdir('/content/drive/My Drive/Colab Notebooks')"
   ]
  },
  {
   "cell_type": "code",
   "execution_count": 41,
   "metadata": {
    "colab": {
     "base_uri": "https://localhost:8080/",
     "height": 90
    },
    "colab_type": "code",
    "executionInfo": {
     "elapsed": 5712,
     "status": "ok",
     "timestamp": 1552861428666,
     "user": {
      "displayName": "Narmada K",
      "photoUrl": "",
      "userId": "14352630564959647803"
     },
     "user_tz": -330
    },
    "id": "DdPqFvpgJPD9",
    "outputId": "7b93064e-5864-49c7-a54e-769e466e402e"
   },
   "outputs": [
    {
     "name": "stdout",
     "output_type": "stream",
     "text": [
      "plant-seedlings-classification.zip  \u001b[0m\u001b[01;34mtest\u001b[0m/                             train.zip\n",
      "R7_Project1_Computer_Vision.ipynb   test.zip                          yelp.csv\n",
      "sample_submission.csv               textClassificationExercise.ipynb\n",
      "SVHN_single_grey1.h5                \u001b[01;34mtrain\u001b[0m/\n"
     ]
    }
   ],
   "source": [
    "ls"
   ]
  },
  {
   "cell_type": "code",
   "execution_count": 0,
   "metadata": {
    "colab": {},
    "colab_type": "code",
    "id": "g9XQ32LTJPD_"
   },
   "outputs": [],
   "source": [
    "os.chdir('/content/drive/My Drive/Colab Notebooks/train')"
   ]
  },
  {
   "cell_type": "code",
   "execution_count": 43,
   "metadata": {
    "colab": {
     "base_uri": "https://localhost:8080/",
     "height": 235
    },
    "colab_type": "code",
    "executionInfo": {
     "elapsed": 1253,
     "status": "ok",
     "timestamp": 1552861432365,
     "user": {
      "displayName": "Narmada K",
      "photoUrl": "",
      "userId": "14352630564959647803"
     },
     "user_tz": -330
    },
    "id": "F1do4m2oJPEC",
    "outputId": "48ce46a8-3a6c-46ab-b52b-01097a2d7216"
   },
   "outputs": [
    {
     "data": {
      "text/plain": [
       "['Fat Hen',\n",
       " 'Small-flowered Cranesbill',\n",
       " 'Cleavers',\n",
       " 'Black-grass',\n",
       " 'Sugar beet',\n",
       " 'Shepherds Purse',\n",
       " 'Charlock',\n",
       " 'Loose Silky-bent',\n",
       " 'Scentless Mayweed',\n",
       " 'Maize',\n",
       " 'Common Chickweed',\n",
       " 'Common wheat']"
      ]
     },
     "execution_count": 43,
     "metadata": {
      "tags": []
     },
     "output_type": "execute_result"
    }
   ],
   "source": [
    "os.listdir()"
   ]
  },
  {
   "cell_type": "code",
   "execution_count": 44,
   "metadata": {
    "colab": {
     "base_uri": "https://localhost:8080/",
     "height": 235
    },
    "colab_type": "code",
    "executionInfo": {
     "elapsed": 59877,
     "status": "ok",
     "timestamp": 1552861495008,
     "user": {
      "displayName": "Narmada K",
      "photoUrl": "",
      "userId": "14352630564959647803"
     },
     "user_tz": -330
    },
    "id": "0xJwKfySJPEE",
    "outputId": "0bad403b-f4f9-493c-e169-ecb6da40e091"
   },
   "outputs": [
    {
     "name": "stdout",
     "output_type": "stream",
     "text": [
      "Fat Hen\n",
      "Small-flowered Cranesbill\n",
      "Cleavers\n",
      "Black-grass\n",
      "Sugar beet\n",
      "Shepherds Purse\n",
      "Charlock\n",
      "Loose Silky-bent\n",
      "Scentless Mayweed\n",
      "Maize\n",
      "Common Chickweed\n",
      "Common wheat\n"
     ]
    }
   ],
   "source": [
    "x_train = []\n",
    "y_train = []\n",
    "import cv2\n",
    "for i in os.listdir():\n",
    "    print(i)\n",
    "    if (os.path.isdir(i)):\n",
    "            for j in os.listdir(i):\n",
    "                try:\n",
    "                    dummy = cv2.imread('/content/drive/My Drive/Colab Notebooks/train/' + i + \"/\" + j)\n",
    "                    dummy = cv2.resize(dummy,(128,128))\n",
    "                    x_train.append(dummy)\n",
    "                    y_train.append(i)\n",
    "                except Exception as e:\n",
    "                    print(e)\n"
   ]
  },
  {
   "cell_type": "code",
   "execution_count": 45,
   "metadata": {
    "colab": {
     "base_uri": "https://localhost:8080/",
     "height": 54
    },
    "colab_type": "code",
    "executionInfo": {
     "elapsed": 1796,
     "status": "ok",
     "timestamp": 1552861499283,
     "user": {
      "displayName": "Narmada K",
      "photoUrl": "",
      "userId": "14352630564959647803"
     },
     "user_tz": -330
    },
    "id": "VfCY14XSJPEG",
    "outputId": "219405e8-4a70-40b7-c2b0-ea2f024f6596"
   },
   "outputs": [
    {
     "name": "stdout",
     "output_type": "stream",
     "text": [
      "Shape of X_train: (128, 128, 3)\n",
      "No of images in X_train 4750\n"
     ]
    }
   ],
   "source": [
    "print(\"Shape of X_train:\",x_train[0].shape)\n",
    "print(\"No of images in X_train\",len(x_train))"
   ]
  },
  {
   "cell_type": "code",
   "execution_count": 0,
   "metadata": {
    "colab": {},
    "colab_type": "code",
    "id": "l_kXVsRjJPEI"
   },
   "outputs": [],
   "source": [
    "import pandas as pd\n",
    "dum = pd.get_dummies(y_train)"
   ]
  },
  {
   "cell_type": "code",
   "execution_count": 0,
   "metadata": {
    "colab": {},
    "colab_type": "code",
    "id": "RnNQXfJ1JPEL"
   },
   "outputs": [],
   "source": [
    "encoded_labels = dum\n",
    "y_train = dum"
   ]
  },
  {
   "cell_type": "code",
   "execution_count": 0,
   "metadata": {
    "colab": {},
    "colab_type": "code",
    "id": "MzLvZMZpJPEO"
   },
   "outputs": [],
   "source": [
    "import numpy as np\n",
    "y_train = np.array(y_train)"
   ]
  },
  {
   "cell_type": "code",
   "execution_count": 0,
   "metadata": {
    "colab": {},
    "colab_type": "code",
    "id": "ML0RTvWoJPEQ"
   },
   "outputs": [],
   "source": [
    "x_train = np.array(x_train)"
   ]
  },
  {
   "cell_type": "code",
   "execution_count": 50,
   "metadata": {
    "colab": {
     "base_uri": "https://localhost:8080/",
     "height": 35
    },
    "colab_type": "code",
    "executionInfo": {
     "elapsed": 1280,
     "status": "ok",
     "timestamp": 1552861505148,
     "user": {
      "displayName": "Narmada K",
      "photoUrl": "",
      "userId": "14352630564959647803"
     },
     "user_tz": -330
    },
    "id": "cC0hsx3mJPGF",
    "outputId": "e8dcae35-0373-4490-f970-b39ac9286286"
   },
   "outputs": [
    {
     "data": {
      "text/plain": [
       "(128, 128, 3)"
      ]
     },
     "execution_count": 50,
     "metadata": {
      "tags": []
     },
     "output_type": "execute_result"
    }
   ],
   "source": [
    "x_train[0].shape"
   ]
  },
  {
   "cell_type": "markdown",
   "metadata": {
    "colab_type": "text",
    "id": "EXBirnTKJPGH"
   },
   "source": [
    "### 3. Initializing & building the model"
   ]
  },
  {
   "cell_type": "code",
   "execution_count": 54,
   "metadata": {
    "colab": {
     "base_uri": "https://localhost:8080/",
     "height": 54
    },
    "colab_type": "code",
    "executionInfo": {
     "elapsed": 1777,
     "status": "ok",
     "timestamp": 1552861541644,
     "user": {
      "displayName": "Narmada K",
      "photoUrl": "",
      "userId": "14352630564959647803"
     },
     "user_tz": -330
    },
    "id": "lwED-GVmwqJc",
    "outputId": "24a13f70-d254-443c-b452-1fefaa1ab01c"
   },
   "outputs": [
    {
     "name": "stdout",
     "output_type": "stream",
     "text": [
      "x_train :  3800\n",
      "x_val :  950\n"
     ]
    }
   ],
   "source": [
    "from sklearn.model_selection import train_test_split\n",
    "X_train, X_val, Y_train, Y_val = train_test_split(x_train, y_train, test_size=0.2, random_state=2)\n",
    "print (\"x_train : \", len(X_train))\n",
    "print (\"x_val : \",len(X_val))"
   ]
  },
  {
   "cell_type": "code",
   "execution_count": 55,
   "metadata": {
    "colab": {
     "base_uri": "https://localhost:8080/",
     "height": 35
    },
    "colab_type": "code",
    "executionInfo": {
     "elapsed": 862,
     "status": "ok",
     "timestamp": 1552861543958,
     "user": {
      "displayName": "Narmada K",
      "photoUrl": "",
      "userId": "14352630564959647803"
     },
     "user_tz": -330
    },
    "id": "eqm5ia9JJPGM",
    "outputId": "e0b53802-ec39-4ec0-af6b-026374902fec"
   },
   "outputs": [
    {
     "data": {
      "text/plain": [
       "(128, 128, 3)"
      ]
     },
     "execution_count": 55,
     "metadata": {
      "tags": []
     },
     "output_type": "execute_result"
    }
   ],
   "source": [
    "X_train[0].shape"
   ]
  },
  {
   "cell_type": "code",
   "execution_count": 0,
   "metadata": {
    "colab": {},
    "colab_type": "code",
    "id": "OVlSvCRzJPGP"
   },
   "outputs": [],
   "source": [
    "X_train = x_train.reshape(x_train.shape[0],128,128,3)"
   ]
  },
  {
   "cell_type": "code",
   "execution_count": 0,
   "metadata": {
    "colab": {},
    "colab_type": "code",
    "id": "T_XQEmCMJPGR"
   },
   "outputs": [],
   "source": [
    "X_val = X_val.reshape(X_val.shape[0],128,128,3)"
   ]
  },
  {
   "cell_type": "code",
   "execution_count": 58,
   "metadata": {
    "colab": {
     "base_uri": "https://localhost:8080/",
     "height": 54
    },
    "colab_type": "code",
    "executionInfo": {
     "elapsed": 1415,
     "status": "ok",
     "timestamp": 1552861545632,
     "user": {
      "displayName": "Narmada K",
      "photoUrl": "",
      "userId": "14352630564959647803"
     },
     "user_tz": -330
    },
    "id": "HnPIlfVVJPGU",
    "outputId": "d96638cc-ddab-432c-de8d-6cb449c563c6"
   },
   "outputs": [
    {
     "name": "stdout",
     "output_type": "stream",
     "text": [
      "(4750, 128, 128, 3)\n",
      "(950, 128, 128, 3)\n"
     ]
    }
   ],
   "source": [
    "print (X_train.shape)\n",
    "print (X_val.shape)"
   ]
  },
  {
   "cell_type": "code",
   "execution_count": 59,
   "metadata": {
    "colab": {
     "base_uri": "https://localhost:8080/",
     "height": 54
    },
    "colab_type": "code",
    "executionInfo": {
     "elapsed": 2151,
     "status": "ok",
     "timestamp": 1552861546671,
     "user": {
      "displayName": "Narmada K",
      "photoUrl": "",
      "userId": "14352630564959647803"
     },
     "user_tz": -330
    },
    "id": "mt4FG1UiJPGX",
    "outputId": "4fb92a69-140e-4bd1-b928-cbd35e492f45"
   },
   "outputs": [
    {
     "name": "stdout",
     "output_type": "stream",
     "text": [
      "(3800, 12)\n",
      "(950, 12)\n"
     ]
    }
   ],
   "source": [
    "print(Y_train.shape)\n",
    "print(Y_val.shape)"
   ]
  },
  {
   "cell_type": "code",
   "execution_count": 0,
   "metadata": {
    "colab": {},
    "colab_type": "code",
    "id": "JXPhHY6F3qvs"
   },
   "outputs": [],
   "source": [
    "Y_train = np.array(y_train)\n",
    "X_train = np.array(X_train)"
   ]
  },
  {
   "cell_type": "code",
   "execution_count": 0,
   "metadata": {
    "colab": {},
    "colab_type": "code",
    "id": "8sI0iYQhJPGY"
   },
   "outputs": [],
   "source": [
    "# build model\n",
    "\n",
    "from keras.models import Sequential\n",
    "from keras.layers import Convolution2D, Dropout, Dense"
   ]
  },
  {
   "cell_type": "code",
   "execution_count": 0,
   "metadata": {
    "colab": {},
    "colab_type": "code",
    "id": "Pr9LtFdWJPGa"
   },
   "outputs": [],
   "source": [
    "from keras.layers import BatchNormalization\n",
    "from keras.layers import MaxPooling2D\n",
    "from keras.layers import Flatten\n",
    "from keras.optimizers import adam"
   ]
  },
  {
   "cell_type": "code",
   "execution_count": 63,
   "metadata": {
    "colab": {
     "base_uri": "https://localhost:8080/",
     "height": 92
    },
    "colab_type": "code",
    "executionInfo": {
     "elapsed": 3323,
     "status": "ok",
     "timestamp": 1552861561213,
     "user": {
      "displayName": "Narmada K",
      "photoUrl": "",
      "userId": "14352630564959647803"
     },
     "user_tz": -330
    },
    "id": "u8vVQdZCJPGc",
    "outputId": "ba6ff10a-36aa-441e-fa14-724dd6d36f8e"
   },
   "outputs": [
    {
     "name": "stdout",
     "output_type": "stream",
     "text": [
      "WARNING:tensorflow:From /usr/local/lib/python3.6/dist-packages/tensorflow/python/framework/op_def_library.py:263: colocate_with (from tensorflow.python.framework.ops) is deprecated and will be removed in a future version.\n",
      "Instructions for updating:\n",
      "Colocations handled automatically by placer.\n"
     ]
    }
   ],
   "source": [
    "model = Sequential()\n",
    "model.add(BatchNormalization(input_shape = (128,128,3)))\n",
    "model.add(Convolution2D(32, (3,3), activation ='relu', input_shape = (128, 128, 3))) \n",
    "model.add(MaxPooling2D(pool_size=2))\n",
    "#model.add(Dropout(0.8))\n",
    "\n",
    "model.add(Convolution2D(filters=64, kernel_size=4, padding='same', activation='relu'))\n",
    "model.add(MaxPooling2D(pool_size=2))\n",
    "#model.add(Dropout(0.8))\n",
    "\n",
    "model.add(Convolution2D(filters=128, kernel_size=3, padding='same', activation='relu'))\n",
    "model.add(MaxPooling2D(pool_size=2))\n",
    "#model.add(Dropout(0.8))\n",
    "\n",
    "model.add(Convolution2D(filters=128, kernel_size=2, padding='same', activation='relu'))\n",
    "model.add(MaxPooling2D(pool_size=2))\n",
    "#model.add(Dropout(0.8))\n",
    "\n",
    "model.add(Flatten()) \n",
    "\n",
    "# fully connected layer\n",
    "model.add(Dense(units=128,activation = 'relu'))\n",
    "model.add(Dense(units = 64, activation = 'relu'))\n",
    "#model.add(Dropout(0.3))\n",
    "model.add(Dense(units = 32, activation = 'relu'))\n",
    "#model.add(Dropout(0.3))\n",
    "model.add(Dense(units = 12, activation = 'softmax')) \n"
   ]
  },
  {
   "cell_type": "code",
   "execution_count": 0,
   "metadata": {
    "colab": {},
    "colab_type": "code",
    "id": "YzQ-P1DZJPGf"
   },
   "outputs": [],
   "source": [
    "optimizer = adam(lr=0.001)\n",
    "model.compile(optimizer='adam', loss = 'categorical_crossentropy',metrics = ['accuracy'])"
   ]
  },
  {
   "cell_type": "code",
   "execution_count": 65,
   "metadata": {
    "colab": {
     "base_uri": "https://localhost:8080/",
     "height": 654
    },
    "colab_type": "code",
    "executionInfo": {
     "elapsed": 1780,
     "status": "ok",
     "timestamp": 1552861562260,
     "user": {
      "displayName": "Narmada K",
      "photoUrl": "",
      "userId": "14352630564959647803"
     },
     "user_tz": -330
    },
    "id": "rKgelQNqJPGh",
    "outputId": "d88b49bf-6b42-4127-a199-d87c9bab10a5"
   },
   "outputs": [
    {
     "name": "stdout",
     "output_type": "stream",
     "text": [
      "_________________________________________________________________\n",
      "Layer (type)                 Output Shape              Param #   \n",
      "=================================================================\n",
      "batch_normalization_1 (Batch (None, 128, 128, 3)       12        \n",
      "_________________________________________________________________\n",
      "conv2d_1 (Conv2D)            (None, 126, 126, 32)      896       \n",
      "_________________________________________________________________\n",
      "max_pooling2d_1 (MaxPooling2 (None, 63, 63, 32)        0         \n",
      "_________________________________________________________________\n",
      "conv2d_2 (Conv2D)            (None, 63, 63, 64)        32832     \n",
      "_________________________________________________________________\n",
      "max_pooling2d_2 (MaxPooling2 (None, 31, 31, 64)        0         \n",
      "_________________________________________________________________\n",
      "conv2d_3 (Conv2D)            (None, 31, 31, 128)       73856     \n",
      "_________________________________________________________________\n",
      "max_pooling2d_3 (MaxPooling2 (None, 15, 15, 128)       0         \n",
      "_________________________________________________________________\n",
      "conv2d_4 (Conv2D)            (None, 15, 15, 128)       65664     \n",
      "_________________________________________________________________\n",
      "max_pooling2d_4 (MaxPooling2 (None, 7, 7, 128)         0         \n",
      "_________________________________________________________________\n",
      "flatten_1 (Flatten)          (None, 6272)              0         \n",
      "_________________________________________________________________\n",
      "dense_1 (Dense)              (None, 128)               802944    \n",
      "_________________________________________________________________\n",
      "dense_2 (Dense)              (None, 64)                8256      \n",
      "_________________________________________________________________\n",
      "dense_3 (Dense)              (None, 32)                2080      \n",
      "_________________________________________________________________\n",
      "dense_4 (Dense)              (None, 12)                396       \n",
      "=================================================================\n",
      "Total params: 986,936\n",
      "Trainable params: 986,930\n",
      "Non-trainable params: 6\n",
      "_________________________________________________________________\n"
     ]
    }
   ],
   "source": [
    "model.summary()"
   ]
  },
  {
   "cell_type": "code",
   "execution_count": 98,
   "metadata": {
    "colab": {
     "base_uri": "https://localhost:8080/",
     "height": 763
    },
    "colab_type": "code",
    "executionInfo": {
     "elapsed": 246934,
     "status": "ok",
     "timestamp": 1552863656848,
     "user": {
      "displayName": "Narmada K",
      "photoUrl": "",
      "userId": "14352630564959647803"
     },
     "user_tz": -330
    },
    "id": "KBu7X6IuJPGj",
    "outputId": "92bba115-c693-415f-8641-603213fc600b"
   },
   "outputs": [
    {
     "name": "stdout",
     "output_type": "stream",
     "text": [
      "Train on 4750 samples, validate on 950 samples\n",
      "Epoch 1/20\n",
      "4750/4750 [==============================] - 12s 3ms/step - loss: 1.3968 - acc: 0.5116 - val_loss: 1.0422 - val_acc: 0.6505\n",
      "Epoch 2/20\n",
      "4750/4750 [==============================] - 12s 3ms/step - loss: 0.9753 - acc: 0.6646 - val_loss: 0.7877 - val_acc: 0.7526\n",
      "Epoch 3/20\n",
      "4750/4750 [==============================] - 12s 3ms/step - loss: 0.7751 - acc: 0.7404 - val_loss: 0.6587 - val_acc: 0.7989\n",
      "Epoch 4/20\n",
      "4750/4750 [==============================] - 12s 3ms/step - loss: 0.6246 - acc: 0.7918 - val_loss: 0.5779 - val_acc: 0.8105\n",
      "Epoch 5/20\n",
      "4750/4750 [==============================] - 12s 3ms/step - loss: 0.5054 - acc: 0.8213 - val_loss: 0.4582 - val_acc: 0.8421\n",
      "Epoch 6/20\n",
      "4750/4750 [==============================] - 12s 3ms/step - loss: 0.4142 - acc: 0.8568 - val_loss: 0.2918 - val_acc: 0.9032\n",
      "Epoch 7/20\n",
      "4750/4750 [==============================] - 12s 3ms/step - loss: 0.3297 - acc: 0.8838 - val_loss: 0.2337 - val_acc: 0.9189\n",
      "Epoch 8/20\n",
      "4750/4750 [==============================] - 12s 3ms/step - loss: 0.2940 - acc: 0.8937 - val_loss: 0.2002 - val_acc: 0.9316\n",
      "Epoch 9/20\n",
      "4750/4750 [==============================] - 12s 3ms/step - loss: 0.2567 - acc: 0.9038 - val_loss: 0.2199 - val_acc: 0.9211\n",
      "Epoch 10/20\n",
      "4750/4750 [==============================] - 12s 3ms/step - loss: 0.2085 - acc: 0.9242 - val_loss: 0.1809 - val_acc: 0.9400\n",
      "Epoch 11/20\n",
      "4750/4750 [==============================] - 12s 3ms/step - loss: 0.1965 - acc: 0.9225 - val_loss: 0.1498 - val_acc: 0.9453\n",
      "Epoch 12/20\n",
      "4750/4750 [==============================] - 12s 3ms/step - loss: 0.1880 - acc: 0.9263 - val_loss: 0.2070 - val_acc: 0.9295\n",
      "Epoch 13/20\n",
      "4750/4750 [==============================] - 12s 3ms/step - loss: 0.1548 - acc: 0.9411 - val_loss: 0.1360 - val_acc: 0.9516\n",
      "Epoch 14/20\n",
      "4750/4750 [==============================] - 12s 3ms/step - loss: 0.1461 - acc: 0.9423 - val_loss: 0.1273 - val_acc: 0.9505\n",
      "Epoch 15/20\n",
      "4750/4750 [==============================] - 12s 3ms/step - loss: 0.1619 - acc: 0.9394 - val_loss: 0.1035 - val_acc: 0.9726\n",
      "Epoch 16/20\n",
      "4750/4750 [==============================] - 12s 3ms/step - loss: 0.1286 - acc: 0.9524 - val_loss: 0.0537 - val_acc: 0.9800\n",
      "Epoch 17/20\n",
      "4750/4750 [==============================] - 12s 3ms/step - loss: 0.1148 - acc: 0.9623 - val_loss: 0.1395 - val_acc: 0.9400\n",
      "Epoch 18/20\n",
      "4750/4750 [==============================] - 12s 3ms/step - loss: 0.1129 - acc: 0.9598 - val_loss: 0.0610 - val_acc: 0.9768\n",
      "Epoch 19/20\n",
      "4750/4750 [==============================] - 12s 3ms/step - loss: 0.1053 - acc: 0.9640 - val_loss: 0.0482 - val_acc: 0.9789\n",
      "Epoch 20/20\n",
      "4750/4750 [==============================] - 12s 3ms/step - loss: 0.0736 - acc: 0.9756 - val_loss: 0.0283 - val_acc: 0.9895\n"
     ]
    }
   ],
   "source": [
    "batch_size = 64\n",
    "nb_epochs = 10\n",
    "history = model.fit(X_train,Y_train,\n",
    "                    epochs=20, \n",
    "                    validation_data=(X_val,Y_val),\n",
    "                    verbose = 1,\n",
    "                    initial_epoch=0)"
   ]
  },
  {
   "cell_type": "markdown",
   "metadata": {
    "colab_type": "text",
    "id": "0u_zbIgQtPVh"
   },
   "source": [
    "### 4. Optimizing the model"
   ]
  },
  {
   "cell_type": "markdown",
   "metadata": {
    "colab_type": "text",
    "id": "b2sC3IyxyG1x"
   },
   "source": [
    "### Observation: The above model has already been implemented with the best optimizer and activations. Anyhow we will try changing epoch , optimiser ,dropouts and batch size."
   ]
  },
  {
   "cell_type": "code",
   "execution_count": 0,
   "metadata": {
    "colab": {},
    "colab_type": "code",
    "id": "lSfu2n6b0AHB"
   },
   "outputs": [],
   "source": [
    "from keras.layers import LeakyReLU"
   ]
  },
  {
   "cell_type": "code",
   "execution_count": 0,
   "metadata": {
    "colab": {},
    "colab_type": "code",
    "id": "43MrZ7WhtaGA"
   },
   "outputs": [],
   "source": [
    "model1 = Sequential()\n",
    "model1.add(BatchNormalization(input_shape = (128,128,3)))\n",
    "model1.add(Convolution2D(32, (3,3), activation ='relu', input_shape = (128, 128, 3))) \n",
    "model1.add(LeakyReLU(alpha=0.1))\n",
    "model1.add(MaxPooling2D(pool_size=2))\n",
    "model1.add(Dropout(0.25))\n",
    "\n",
    "model1.add(Convolution2D(filters=64, kernel_size=4, padding='same', activation='relu'))\n",
    "model1.add(LeakyReLU(alpha=0.1))\n",
    "model1.add(MaxPooling2D(pool_size=2))\n",
    "model1.add(Dropout(0.2))\n",
    "\n",
    "model1.add(Convolution2D(filters=128, kernel_size=3, padding='same', activation='relu'))\n",
    "model1.add(LeakyReLU(alpha=0.1))\n",
    "model1.add(MaxPooling2D(pool_size=2))\n",
    "#model.add(Dropout(0.8))\n",
    "\n",
    "model1.add(Convolution2D(filters=128, kernel_size=2, padding='same', activation='relu'))\n",
    "model1.add(LeakyReLU(alpha=0.1))\n",
    "model1.add(MaxPooling2D(pool_size=2))\n",
    "#model.add(Dropout(0.8))\n",
    "\n",
    "model1.add(Flatten()) \n",
    "\n",
    "# fully connected layer\n",
    "model1.add(Dense(units=128,activation = 'relu'))\n",
    "model1.add(LeakyReLU(alpha=0.1))\n",
    "model1.add(Dense(units = 64, activation = 'relu'))\n",
    "model1.add(LeakyReLU(alpha=0.1))\n",
    "#model.add(Dropout(0.3))\n",
    "model1.add(Dense(units = 32, activation = 'relu'))\n",
    "#model.add(Dropout(0.3))\n",
    "model1.add(Dense(units = 12, activation = 'softmax')) "
   ]
  },
  {
   "cell_type": "code",
   "execution_count": 0,
   "metadata": {
    "colab": {},
    "colab_type": "code",
    "id": "B8y80OlJtaKX"
   },
   "outputs": [],
   "source": [
    "#optimizer = adam(lr=0.001)\n",
    "model1.compile(optimizer='adam', loss = 'categorical_crossentropy',metrics = ['accuracy'])"
   ]
  },
  {
   "cell_type": "code",
   "execution_count": 78,
   "metadata": {
    "colab": {
     "base_uri": "https://localhost:8080/",
     "height": 945
    },
    "colab_type": "code",
    "executionInfo": {
     "elapsed": 1043,
     "status": "ok",
     "timestamp": 1552862700805,
     "user": {
      "displayName": "Narmada K",
      "photoUrl": "",
      "userId": "14352630564959647803"
     },
     "user_tz": -330
    },
    "id": "bbGqYOb_0W4g",
    "outputId": "cee3e259-6512-47a1-e626-d9cdc91c19c7"
   },
   "outputs": [
    {
     "name": "stdout",
     "output_type": "stream",
     "text": [
      "_________________________________________________________________\n",
      "Layer (type)                 Output Shape              Param #   \n",
      "=================================================================\n",
      "batch_normalization_4 (Batch (None, 128, 128, 3)       12        \n",
      "_________________________________________________________________\n",
      "conv2d_10 (Conv2D)           (None, 126, 126, 32)      896       \n",
      "_________________________________________________________________\n",
      "leaky_re_lu_7 (LeakyReLU)    (None, 126, 126, 32)      0         \n",
      "_________________________________________________________________\n",
      "max_pooling2d_9 (MaxPooling2 (None, 63, 63, 32)        0         \n",
      "_________________________________________________________________\n",
      "dropout_3 (Dropout)          (None, 63, 63, 32)        0         \n",
      "_________________________________________________________________\n",
      "conv2d_11 (Conv2D)           (None, 63, 63, 64)        32832     \n",
      "_________________________________________________________________\n",
      "leaky_re_lu_8 (LeakyReLU)    (None, 63, 63, 64)        0         \n",
      "_________________________________________________________________\n",
      "max_pooling2d_10 (MaxPooling (None, 31, 31, 64)        0         \n",
      "_________________________________________________________________\n",
      "dropout_4 (Dropout)          (None, 31, 31, 64)        0         \n",
      "_________________________________________________________________\n",
      "conv2d_12 (Conv2D)           (None, 31, 31, 128)       73856     \n",
      "_________________________________________________________________\n",
      "leaky_re_lu_9 (LeakyReLU)    (None, 31, 31, 128)       0         \n",
      "_________________________________________________________________\n",
      "max_pooling2d_11 (MaxPooling (None, 15, 15, 128)       0         \n",
      "_________________________________________________________________\n",
      "conv2d_13 (Conv2D)           (None, 15, 15, 128)       65664     \n",
      "_________________________________________________________________\n",
      "leaky_re_lu_10 (LeakyReLU)   (None, 15, 15, 128)       0         \n",
      "_________________________________________________________________\n",
      "max_pooling2d_12 (MaxPooling (None, 7, 7, 128)         0         \n",
      "_________________________________________________________________\n",
      "flatten_3 (Flatten)          (None, 6272)              0         \n",
      "_________________________________________________________________\n",
      "dense_9 (Dense)              (None, 128)               802944    \n",
      "_________________________________________________________________\n",
      "leaky_re_lu_11 (LeakyReLU)   (None, 128)               0         \n",
      "_________________________________________________________________\n",
      "dense_10 (Dense)             (None, 64)                8256      \n",
      "_________________________________________________________________\n",
      "leaky_re_lu_12 (LeakyReLU)   (None, 64)                0         \n",
      "_________________________________________________________________\n",
      "dense_11 (Dense)             (None, 32)                2080      \n",
      "_________________________________________________________________\n",
      "dense_12 (Dense)             (None, 12)                396       \n",
      "=================================================================\n",
      "Total params: 986,936\n",
      "Trainable params: 986,930\n",
      "Non-trainable params: 6\n",
      "_________________________________________________________________\n"
     ]
    }
   ],
   "source": [
    "model1.summary()"
   ]
  },
  {
   "cell_type": "code",
   "execution_count": 81,
   "metadata": {
    "colab": {
     "base_uri": "https://localhost:8080/",
     "height": 763
    },
    "colab_type": "code",
    "executionInfo": {
     "elapsed": 245724,
     "status": "ok",
     "timestamp": 1552863007793,
     "user": {
      "displayName": "Narmada K",
      "photoUrl": "",
      "userId": "14352630564959647803"
     },
     "user_tz": -330
    },
    "id": "qEMwrWvo0aoo",
    "outputId": "79991149-06d9-4e9f-a09a-9a6af8087a2b"
   },
   "outputs": [
    {
     "name": "stdout",
     "output_type": "stream",
     "text": [
      "Train on 4750 samples, validate on 950 samples\n",
      "Epoch 1/20\n",
      "4750/4750 [==============================] - 13s 3ms/step - loss: 1.8722 - acc: 0.3766 - val_loss: 1.3877 - val_acc: 0.5326\n",
      "Epoch 2/20\n",
      "4750/4750 [==============================] - 12s 3ms/step - loss: 0.9958 - acc: 0.6634 - val_loss: 0.9409 - val_acc: 0.6758\n",
      "Epoch 3/20\n",
      "4750/4750 [==============================] - 12s 3ms/step - loss: 0.7076 - acc: 0.7552 - val_loss: 0.6402 - val_acc: 0.7895\n",
      "Epoch 4/20\n",
      "4750/4750 [==============================] - 12s 3ms/step - loss: 0.5574 - acc: 0.8080 - val_loss: 0.4517 - val_acc: 0.8442\n",
      "Epoch 5/20\n",
      "4750/4750 [==============================] - 12s 3ms/step - loss: 0.4304 - acc: 0.8520 - val_loss: 0.3287 - val_acc: 0.8853\n",
      "Epoch 6/20\n",
      "4750/4750 [==============================] - 12s 3ms/step - loss: 0.3418 - acc: 0.8787 - val_loss: 0.2507 - val_acc: 0.9137\n",
      "Epoch 7/20\n",
      "4750/4750 [==============================] - 12s 3ms/step - loss: 0.3131 - acc: 0.8863 - val_loss: 0.2203 - val_acc: 0.9305\n",
      "Epoch 8/20\n",
      "4750/4750 [==============================] - 12s 3ms/step - loss: 0.2704 - acc: 0.9017 - val_loss: 0.2025 - val_acc: 0.9295\n",
      "Epoch 9/20\n",
      "4750/4750 [==============================] - 12s 3ms/step - loss: 0.2569 - acc: 0.9099 - val_loss: 0.2645 - val_acc: 0.9011\n",
      "Epoch 10/20\n",
      "4750/4750 [==============================] - 12s 3ms/step - loss: 0.1893 - acc: 0.9307 - val_loss: 0.1599 - val_acc: 0.9316\n",
      "Epoch 11/20\n",
      "4750/4750 [==============================] - 12s 3ms/step - loss: 0.1724 - acc: 0.9362 - val_loss: 0.1203 - val_acc: 0.9463\n",
      "Epoch 12/20\n",
      "4750/4750 [==============================] - 12s 3ms/step - loss: 0.1642 - acc: 0.9421 - val_loss: 0.1255 - val_acc: 0.9558\n",
      "Epoch 13/20\n",
      "4750/4750 [==============================] - 12s 3ms/step - loss: 0.1542 - acc: 0.9404 - val_loss: 0.0981 - val_acc: 0.9653\n",
      "Epoch 14/20\n",
      "4750/4750 [==============================] - 12s 3ms/step - loss: 0.1174 - acc: 0.9535 - val_loss: 0.0929 - val_acc: 0.9674\n",
      "Epoch 15/20\n",
      "4750/4750 [==============================] - 12s 3ms/step - loss: 0.1983 - acc: 0.9293 - val_loss: 0.0657 - val_acc: 0.9800\n",
      "Epoch 16/20\n",
      "4750/4750 [==============================] - 12s 3ms/step - loss: 0.0848 - acc: 0.9691 - val_loss: 0.0499 - val_acc: 0.9821\n",
      "Epoch 17/20\n",
      "4750/4750 [==============================] - 12s 3ms/step - loss: 0.0994 - acc: 0.9642 - val_loss: 0.0806 - val_acc: 0.9653\n",
      "Epoch 18/20\n",
      "4750/4750 [==============================] - 12s 3ms/step - loss: 0.1304 - acc: 0.9543 - val_loss: 0.0410 - val_acc: 0.9821\n",
      "Epoch 19/20\n",
      "4750/4750 [==============================] - 12s 3ms/step - loss: 0.1010 - acc: 0.9682 - val_loss: 0.0487 - val_acc: 0.9842\n",
      "Epoch 20/20\n",
      "4750/4750 [==============================] - 12s 3ms/step - loss: 0.0777 - acc: 0.9739 - val_loss: 0.0592 - val_acc: 0.9779\n"
     ]
    }
   ],
   "source": [
    "batch_size = 78\n",
    "nb_epochs = 10\n",
    "history = model1.fit(x_train,y_train,\n",
    "                    epochs=20, \n",
    "                    validation_data=(X_val,Y_val),\n",
    "                    verbose = 1,\n",
    "                    initial_epoch=0)"
   ]
  },
  {
   "cell_type": "markdown",
   "metadata": {
    "colab_type": "text",
    "id": "0Otm7Cl3JPGl"
   },
   "source": [
    "### 5. Predicting the accuracy for both train and validation data."
   ]
  },
  {
   "cell_type": "code",
   "execution_count": 0,
   "metadata": {
    "colab": {},
    "colab_type": "code",
    "id": "VAwFPvO1JPGl"
   },
   "outputs": [],
   "source": [
    "predict_train = model.predict(X_train)\n",
    "predict_val = model.predict(X_val)"
   ]
  },
  {
   "cell_type": "code",
   "execution_count": 100,
   "metadata": {
    "colab": {
     "base_uri": "https://localhost:8080/",
     "height": 35
    },
    "colab_type": "code",
    "executionInfo": {
     "elapsed": 1306,
     "status": "ok",
     "timestamp": 1552863899855,
     "user": {
      "displayName": "Narmada K",
      "photoUrl": "",
      "userId": "14352630564959647803"
     },
     "user_tz": -330
    },
    "id": "zOMULqixJPGn",
    "outputId": "7f5306ee-52bb-441c-d5a0-5aa7c9bf9fcd"
   },
   "outputs": [
    {
     "name": "stdout",
     "output_type": "stream",
     "text": [
      "Train_accuracy:  0.9922105263157894\n"
     ]
    }
   ],
   "source": [
    "from sklearn import metrics\n",
    "print (\"Train_accuracy: \", metrics.accuracy_score(np.argmax(y_train, axis=1), np.argmax(predict_train, axis=1)))"
   ]
  },
  {
   "cell_type": "code",
   "execution_count": 101,
   "metadata": {
    "colab": {
     "base_uri": "https://localhost:8080/",
     "height": 381
    },
    "colab_type": "code",
    "executionInfo": {
     "elapsed": 1708,
     "status": "ok",
     "timestamp": 1552863907441,
     "user": {
      "displayName": "Narmada K",
      "photoUrl": "",
      "userId": "14352630564959647803"
     },
     "user_tz": -330
    },
    "id": "JdcvNa8ZJPGp",
    "outputId": "0c3a77de-028c-4633-efc4-6f8d4ff583eb"
   },
   "outputs": [
    {
     "name": "stdout",
     "output_type": "stream",
     "text": [
      "CR for train data\n",
      "              precision    recall  f1-score   support\n",
      "\n",
      "           0       0.99      0.91      0.95       263\n",
      "           1       0.99      0.99      0.99       390\n",
      "           2       1.00      0.99      0.99       287\n",
      "           3       1.00      1.00      1.00       611\n",
      "           4       1.00      1.00      1.00       221\n",
      "           5       1.00      1.00      1.00       475\n",
      "           6       0.97      0.99      0.98       654\n",
      "           7       1.00      1.00      1.00       221\n",
      "           8       1.00      1.00      1.00       516\n",
      "           9       1.00      0.99      1.00       231\n",
      "          10       1.00      1.00      1.00       496\n",
      "          11       0.98      1.00      0.99       385\n",
      "\n",
      "   micro avg       0.99      0.99      0.99      4750\n",
      "   macro avg       0.99      0.99      0.99      4750\n",
      "weighted avg       0.99      0.99      0.99      4750\n",
      "\n"
     ]
    }
   ],
   "source": [
    "from sklearn.metrics import classification_report\n",
    "\n",
    "print (\"CR for train data\")\n",
    "print(classification_report(np.argmax(y_train, axis=1), np.argmax(predict_train, axis=1)))"
   ]
  },
  {
   "cell_type": "code",
   "execution_count": 104,
   "metadata": {
    "colab": {
     "base_uri": "https://localhost:8080/",
     "height": 35
    },
    "colab_type": "code",
    "executionInfo": {
     "elapsed": 1676,
     "status": "ok",
     "timestamp": 1552864126038,
     "user": {
      "displayName": "Narmada K",
      "photoUrl": "",
      "userId": "14352630564959647803"
     },
     "user_tz": -330
    },
    "id": "8j1racHy2U5V",
    "outputId": "9465ff97-a9c3-4703-af31-3be3ab74d456"
   },
   "outputs": [
    {
     "name": "stdout",
     "output_type": "stream",
     "text": [
      "val_accuracy:  0.9894736842105263\n"
     ]
    }
   ],
   "source": [
    "from sklearn import metrics\n",
    "print (\"val_accuracy: \", metrics.accuracy_score(np.argmax(Y_val, axis=1), np.argmax(predict_val, axis=1)))"
   ]
  },
  {
   "cell_type": "code",
   "execution_count": 107,
   "metadata": {
    "colab": {
     "base_uri": "https://localhost:8080/",
     "height": 381
    },
    "colab_type": "code",
    "executionInfo": {
     "elapsed": 1737,
     "status": "ok",
     "timestamp": 1552864186519,
     "user": {
      "displayName": "Narmada K",
      "photoUrl": "",
      "userId": "14352630564959647803"
     },
     "user_tz": -330
    },
    "id": "URXL8Sbi58mS",
    "outputId": "11b77db9-9da6-4e0d-b7db-1160ef4f36d5"
   },
   "outputs": [
    {
     "name": "stdout",
     "output_type": "stream",
     "text": [
      "CR for val data\n",
      "              precision    recall  f1-score   support\n",
      "\n",
      "           0       0.96      0.85      0.90        52\n",
      "           1       1.00      1.00      1.00        70\n",
      "           2       1.00      1.00      1.00        50\n",
      "           3       1.00      1.00      1.00       118\n",
      "           4       1.00      1.00      1.00        47\n",
      "           5       1.00      1.00      1.00       102\n",
      "           6       0.94      0.99      0.96       134\n",
      "           7       1.00      1.00      1.00        40\n",
      "           8       1.00      1.00      1.00        90\n",
      "           9       1.00      1.00      1.00        49\n",
      "          10       1.00      1.00      1.00       112\n",
      "          11       1.00      1.00      1.00        86\n",
      "\n",
      "   micro avg       0.99      0.99      0.99       950\n",
      "   macro avg       0.99      0.99      0.99       950\n",
      "weighted avg       0.99      0.99      0.99       950\n",
      "\n"
     ]
    }
   ],
   "source": [
    "\n",
    "print (\"CR for val data\")\n",
    "print(classification_report(np.argmax(Y_val, axis=1), np.argmax(predict_val, axis=1)))"
   ]
  },
  {
   "cell_type": "markdown",
   "metadata": {
    "colab_type": "text",
    "id": "dILWNgzF7bNt"
   },
   "source": [
    "### Observation: F1 score of class 1 and 6 is less in val accuracy may be due to inconsistency in the class distribution."
   ]
  },
  {
   "cell_type": "code",
   "execution_count": 0,
   "metadata": {
    "colab": {},
    "colab_type": "code",
    "id": "OGCT4TeZ7f5T"
   },
   "outputs": [],
   "source": []
  }
 ],
 "metadata": {
  "accelerator": "GPU",
  "colab": {
   "collapsed_sections": [],
   "name": "R7_Project1_Computer_Vision.ipynb",
   "provenance": [],
   "version": "0.3.2"
  },
  "kernelspec": {
   "display_name": "Python 3",
   "language": "python",
   "name": "python3"
  },
  "language_info": {
   "codemirror_mode": {
    "name": "ipython",
    "version": 3
   },
   "file_extension": ".py",
   "mimetype": "text/x-python",
   "name": "python",
   "nbconvert_exporter": "python",
   "pygments_lexer": "ipython3",
   "version": "3.6.5"
  }
 },
 "nbformat": 4,
 "nbformat_minor": 1
}
